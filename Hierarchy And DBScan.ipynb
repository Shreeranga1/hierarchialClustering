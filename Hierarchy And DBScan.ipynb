{
 "cells": [
  {
   "cell_type": "code",
   "execution_count": 19,
   "metadata": {},
   "outputs": [],
   "source": [
    "import pandas as pd\n",
    "import numpy as np\n",
    "import os"
   ]
  },
  {
   "cell_type": "code",
   "execution_count": 20,
   "metadata": {},
   "outputs": [],
   "source": [
    "os.chdir('C:\\\\Users\\\\skv\\\\Downloads\\\\Session2')"
   ]
  },
  {
   "cell_type": "code",
   "execution_count": 21,
   "metadata": {},
   "outputs": [],
   "source": [
    "df=pd.read_excel('purchase.xlsx')"
   ]
  },
  {
   "cell_type": "code",
   "execution_count": 22,
   "metadata": {},
   "outputs": [
    {
     "data": {
      "text/html": [
       "<div>\n",
       "<style scoped>\n",
       "    .dataframe tbody tr th:only-of-type {\n",
       "        vertical-align: middle;\n",
       "    }\n",
       "\n",
       "    .dataframe tbody tr th {\n",
       "        vertical-align: top;\n",
       "    }\n",
       "\n",
       "    .dataframe thead th {\n",
       "        text-align: right;\n",
       "    }\n",
       "</style>\n",
       "<table border=\"1\" class=\"dataframe\">\n",
       "  <thead>\n",
       "    <tr style=\"text-align: right;\">\n",
       "      <th></th>\n",
       "      <th>Products</th>\n",
       "      <th>Prod_id</th>\n",
       "      <th>Cust_id</th>\n",
       "      <th>Sales</th>\n",
       "      <th>Order_Quan</th>\n",
       "      <th>Profit</th>\n",
       "      <th>Shipping_Cost</th>\n",
       "      <th>Product_Base_Margin</th>\n",
       "      <th>Customer_Segment</th>\n",
       "    </tr>\n",
       "  </thead>\n",
       "  <tbody>\n",
       "    <tr>\n",
       "      <th>0</th>\n",
       "      <td>COPIERS AND FAX</td>\n",
       "      <td>Prod_16</td>\n",
       "      <td>Cust_1088</td>\n",
       "      <td>10909.641</td>\n",
       "      <td>40</td>\n",
       "      <td>2616.46</td>\n",
       "      <td>22.00</td>\n",
       "      <td>0.57</td>\n",
       "      <td>HOME OFFICE</td>\n",
       "    </tr>\n",
       "    <tr>\n",
       "      <th>1</th>\n",
       "      <td>COPIERS AND FAX</td>\n",
       "      <td>Prod_16</td>\n",
       "      <td>Cust_1820</td>\n",
       "      <td>10607.641</td>\n",
       "      <td>27</td>\n",
       "      <td>2977.36</td>\n",
       "      <td>23.69</td>\n",
       "      <td>0.56</td>\n",
       "      <td>CORPORATE</td>\n",
       "    </tr>\n",
       "    <tr>\n",
       "      <th>2</th>\n",
       "      <td>PAPER</td>\n",
       "      <td>Prod_6</td>\n",
       "      <td>Cust_1659</td>\n",
       "      <td>754.641</td>\n",
       "      <td>13</td>\n",
       "      <td>29.80</td>\n",
       "      <td>8.90</td>\n",
       "      <td>0.37</td>\n",
       "      <td>SMALL BUSINESS</td>\n",
       "    </tr>\n",
       "    <tr>\n",
       "      <th>3</th>\n",
       "      <td>PAPER</td>\n",
       "      <td>Prod_6</td>\n",
       "      <td>Cust_622</td>\n",
       "      <td>572.641</td>\n",
       "      <td>22</td>\n",
       "      <td>92.78</td>\n",
       "      <td>10.99</td>\n",
       "      <td>0.39</td>\n",
       "      <td>SMALL BUSINESS</td>\n",
       "    </tr>\n",
       "    <tr>\n",
       "      <th>4</th>\n",
       "      <td>OFFICE MACHINES</td>\n",
       "      <td>Prod_17</td>\n",
       "      <td>Cust_564</td>\n",
       "      <td>10128.641</td>\n",
       "      <td>50</td>\n",
       "      <td>5133.68</td>\n",
       "      <td>20.50</td>\n",
       "      <td>0.36</td>\n",
       "      <td>SMALL BUSINESS</td>\n",
       "    </tr>\n",
       "  </tbody>\n",
       "</table>\n",
       "</div>"
      ],
      "text/plain": [
       "          Products  Prod_id    Cust_id      Sales  Order_Quan   Profit  \\\n",
       "0  COPIERS AND FAX  Prod_16  Cust_1088  10909.641          40  2616.46   \n",
       "1  COPIERS AND FAX  Prod_16  Cust_1820  10607.641          27  2977.36   \n",
       "2            PAPER   Prod_6  Cust_1659    754.641          13    29.80   \n",
       "3            PAPER   Prod_6   Cust_622    572.641          22    92.78   \n",
       "4  OFFICE MACHINES  Prod_17   Cust_564  10128.641          50  5133.68   \n",
       "\n",
       "   Shipping_Cost  Product_Base_Margin Customer_Segment  \n",
       "0          22.00                 0.57      HOME OFFICE  \n",
       "1          23.69                 0.56        CORPORATE  \n",
       "2           8.90                 0.37   SMALL BUSINESS  \n",
       "3          10.99                 0.39   SMALL BUSINESS  \n",
       "4          20.50                 0.36   SMALL BUSINESS  "
      ]
     },
     "execution_count": 22,
     "metadata": {},
     "output_type": "execute_result"
    }
   ],
   "source": [
    "df.head()"
   ]
  },
  {
   "cell_type": "code",
   "execution_count": 23,
   "metadata": {},
   "outputs": [
    {
     "data": {
      "text/plain": [
       "Index(['Products', 'Prod_id', 'Cust_id', 'Sales', 'Order_Quan', 'Profit',\n",
       "       'Shipping_Cost', 'Product_Base_Margin', 'Customer_Segment'],\n",
       "      dtype='object')"
      ]
     },
     "execution_count": 23,
     "metadata": {},
     "output_type": "execute_result"
    }
   ],
   "source": [
    "df.columns"
   ]
  },
  {
   "cell_type": "code",
   "execution_count": 24,
   "metadata": {},
   "outputs": [],
   "source": [
    "df.index=df.Products"
   ]
  },
  {
   "cell_type": "code",
   "execution_count": 25,
   "metadata": {},
   "outputs": [],
   "source": [
    "df.drop(columns=['Products'],axis=1,inplace=True)"
   ]
  },
  {
   "cell_type": "code",
   "execution_count": 26,
   "metadata": {},
   "outputs": [
    {
     "data": {
      "text/html": [
       "<div>\n",
       "<style scoped>\n",
       "    .dataframe tbody tr th:only-of-type {\n",
       "        vertical-align: middle;\n",
       "    }\n",
       "\n",
       "    .dataframe tbody tr th {\n",
       "        vertical-align: top;\n",
       "    }\n",
       "\n",
       "    .dataframe thead th {\n",
       "        text-align: right;\n",
       "    }\n",
       "</style>\n",
       "<table border=\"1\" class=\"dataframe\">\n",
       "  <thead>\n",
       "    <tr style=\"text-align: right;\">\n",
       "      <th></th>\n",
       "      <th>Prod_id</th>\n",
       "      <th>Cust_id</th>\n",
       "      <th>Sales</th>\n",
       "      <th>Order_Quan</th>\n",
       "      <th>Profit</th>\n",
       "      <th>Shipping_Cost</th>\n",
       "      <th>Product_Base_Margin</th>\n",
       "      <th>Customer_Segment</th>\n",
       "    </tr>\n",
       "    <tr>\n",
       "      <th>Products</th>\n",
       "      <th></th>\n",
       "      <th></th>\n",
       "      <th></th>\n",
       "      <th></th>\n",
       "      <th></th>\n",
       "      <th></th>\n",
       "      <th></th>\n",
       "      <th></th>\n",
       "    </tr>\n",
       "  </thead>\n",
       "  <tbody>\n",
       "    <tr>\n",
       "      <th>COPIERS AND FAX</th>\n",
       "      <td>Prod_16</td>\n",
       "      <td>Cust_1088</td>\n",
       "      <td>10909.641</td>\n",
       "      <td>40</td>\n",
       "      <td>2616.46</td>\n",
       "      <td>22.00</td>\n",
       "      <td>0.57</td>\n",
       "      <td>HOME OFFICE</td>\n",
       "    </tr>\n",
       "    <tr>\n",
       "      <th>COPIERS AND FAX</th>\n",
       "      <td>Prod_16</td>\n",
       "      <td>Cust_1820</td>\n",
       "      <td>10607.641</td>\n",
       "      <td>27</td>\n",
       "      <td>2977.36</td>\n",
       "      <td>23.69</td>\n",
       "      <td>0.56</td>\n",
       "      <td>CORPORATE</td>\n",
       "    </tr>\n",
       "    <tr>\n",
       "      <th>PAPER</th>\n",
       "      <td>Prod_6</td>\n",
       "      <td>Cust_1659</td>\n",
       "      <td>754.641</td>\n",
       "      <td>13</td>\n",
       "      <td>29.80</td>\n",
       "      <td>8.90</td>\n",
       "      <td>0.37</td>\n",
       "      <td>SMALL BUSINESS</td>\n",
       "    </tr>\n",
       "    <tr>\n",
       "      <th>PAPER</th>\n",
       "      <td>Prod_6</td>\n",
       "      <td>Cust_622</td>\n",
       "      <td>572.641</td>\n",
       "      <td>22</td>\n",
       "      <td>92.78</td>\n",
       "      <td>10.99</td>\n",
       "      <td>0.39</td>\n",
       "      <td>SMALL BUSINESS</td>\n",
       "    </tr>\n",
       "    <tr>\n",
       "      <th>OFFICE MACHINES</th>\n",
       "      <td>Prod_17</td>\n",
       "      <td>Cust_564</td>\n",
       "      <td>10128.641</td>\n",
       "      <td>50</td>\n",
       "      <td>5133.68</td>\n",
       "      <td>20.50</td>\n",
       "      <td>0.36</td>\n",
       "      <td>SMALL BUSINESS</td>\n",
       "    </tr>\n",
       "  </tbody>\n",
       "</table>\n",
       "</div>"
      ],
      "text/plain": [
       "                 Prod_id    Cust_id      Sales  Order_Quan   Profit  \\\n",
       "Products                                                              \n",
       "COPIERS AND FAX  Prod_16  Cust_1088  10909.641          40  2616.46   \n",
       "COPIERS AND FAX  Prod_16  Cust_1820  10607.641          27  2977.36   \n",
       "PAPER             Prod_6  Cust_1659    754.641          13    29.80   \n",
       "PAPER             Prod_6   Cust_622    572.641          22    92.78   \n",
       "OFFICE MACHINES  Prod_17   Cust_564  10128.641          50  5133.68   \n",
       "\n",
       "                 Shipping_Cost  Product_Base_Margin Customer_Segment  \n",
       "Products                                                              \n",
       "COPIERS AND FAX          22.00                 0.57      HOME OFFICE  \n",
       "COPIERS AND FAX          23.69                 0.56        CORPORATE  \n",
       "PAPER                     8.90                 0.37   SMALL BUSINESS  \n",
       "PAPER                    10.99                 0.39   SMALL BUSINESS  \n",
       "OFFICE MACHINES          20.50                 0.36   SMALL BUSINESS  "
      ]
     },
     "execution_count": 26,
     "metadata": {},
     "output_type": "execute_result"
    }
   ],
   "source": [
    "df.head()"
   ]
  },
  {
   "cell_type": "code",
   "execution_count": 27,
   "metadata": {},
   "outputs": [],
   "source": [
    "df.drop(columns=['Prod_id'],axis=1,inplace=True)"
   ]
  },
  {
   "cell_type": "code",
   "execution_count": 28,
   "metadata": {},
   "outputs": [],
   "source": [
    "Q1=df.quantile(0.25)\n",
    "Q3=df.quantile(0.75)\n",
    "IQR=Q3-Q1\n",
    "head=df<(Q1-1.5*IQR)\n",
    "tail=df>(Q3+1.5*IQR)\n",
    "df=df[~(head|tail).any(axis=1)]\n",
    "df=df.reset_index(drop=True)"
   ]
  },
  {
   "cell_type": "code",
   "execution_count": 29,
   "metadata": {},
   "outputs": [
    {
     "data": {
      "text/plain": [
       "(5192, 7)"
      ]
     },
     "execution_count": 29,
     "metadata": {},
     "output_type": "execute_result"
    }
   ],
   "source": [
    "df.shape"
   ]
  },
  {
   "cell_type": "markdown",
   "metadata": {},
   "source": [
    "# Hierarchical clustering"
   ]
  },
  {
   "cell_type": "markdown",
   "metadata": {},
   "source": [
    "## scale the data"
   ]
  },
  {
   "cell_type": "code",
   "execution_count": 31,
   "metadata": {},
   "outputs": [],
   "source": [
    "from sklearn.cluster import AgglomerativeClusteringsklearsklearn"
   ]
  },
  {
   "cell_type": "code",
   "execution_count": 33,
   "metadata": {},
   "outputs": [],
   "source": [
    "from sklearn.preprocessing import StandardScaler"
   ]
  },
  {
   "cell_type": "code",
   "execution_count": 34,
   "metadata": {},
   "outputs": [],
   "source": [
    "scaler=StandardScaler()"
   ]
  },
  {
   "cell_type": "code",
   "execution_count": 36,
   "metadata": {},
   "outputs": [],
   "source": [
    "features = df[['Sales', 'Order_Quan', 'Profit', 'Shipping_Cost', 'Product_Base_Margin']]"
   ]
  },
  {
   "cell_type": "code",
   "execution_count": null,
   "metadata": {},
   "outputs": [],
   "source": []
  },
  {
   "cell_type": "code",
   "execution_count": null,
   "metadata": {},
   "outputs": [],
   "source": []
  },
  {
   "cell_type": "code",
   "execution_count": 37,
   "metadata": {},
   "outputs": [],
   "source": [
    "features_scaled=scaler.fit_transform(features)"
   ]
  },
  {
   "cell_type": "code",
   "execution_count": 51,
   "metadata": {},
   "outputs": [
    {
     "name": "stdout",
     "output_type": "stream",
     "text": [
      "[[1.113e+03 1.253e+03 0.000e+00 2.000e+00]\n",
      " [1.903e+03 5.192e+03 0.000e+00 3.000e+00]\n",
      " [1.133e+03 2.146e+03 0.000e+00 2.000e+00]\n",
      " [1.234e+03 1.544e+03 0.000e+00 2.000e+00]\n",
      " [1.656e+03 5.195e+03 0.000e+00 3.000e+00]\n",
      " [1.883e+03 5.196e+03 0.000e+00 4.000e+00]\n",
      " [4.320e+03 4.418e+03 0.000e+00 2.000e+00]\n",
      " [4.436e+03 5.198e+03 0.000e+00 3.000e+00]\n",
      " [2.932e+03 2.988e+03 0.000e+00 2.000e+00]\n",
      " [2.820e+03 3.027e+03 0.000e+00 2.000e+00]]\n"
     ]
    }
   ],
   "source": [
    "from scipy.cluster.hierarchy import linkage\n",
    "from scipy.cluster.hierarchy import dendrogram\n",
    "from scipy.cluster.hierarchy import cophenet\n",
    "\n",
    "\n",
    "\n",
    "\n",
    "\n",
    "\n",
    "link_mat=linkage(features_scaled,method='ward')\n",
    "print(link_mat[0:10])"
   ]
  },
  {
   "cell_type": "code",
   "execution_count": 53,
   "metadata": {},
   "outputs": [
    {
     "data": {
      "image/png": "[encoded data removed]",
      "text/plain": [
       "<Figure size 432x288 with 1 Axes>"
      ]
     },
     "metadata": {
      "needs_background": "light"
     },
     "output_type": "display_data"
    }
   ],
   "source": [
    "from matplotlib import pyplot as plt\n",
    "dendro=dendrogram(link_mat)\n",
    "plt.title('Hierarchical Clustering Dendrogram')\n",
    "\n",
    "# Plot axis labels\n",
    "plt.xlabel('sample index')\n",
    "plt.ylabel('distance (Ward)')\n",
    "\n",
    "\n",
    "plt.show()"
   ]
  },
  {
   "cell_type": "markdown",
   "metadata": {},
   "source": [
    "let us cal the cophenetic correlation coff"
   ]
  },
  {
   "cell_type": "code",
   "execution_count": 54,
   "metadata": {},
   "outputs": [],
   "source": [
    "from sklearn.metrics.pairwise import euclidean_distances"
   ]
  },
  {
   "cell_type": "code",
   "execution_count": 55,
   "metadata": {},
   "outputs": [],
   "source": [
    "eucli_dist= euclidean_distances(features_scaled)"
   ]
  },
  {
   "cell_type": "code",
   "execution_count": 56,
   "metadata": {},
   "outputs": [],
   "source": [
    "dist_array=eucli_dist[np.triu_indices(5192,k=1)]"
   ]
  },
  {
   "cell_type": "code",
   "execution_count": 57,
   "metadata": {},
   "outputs": [
    {
     "name": "stdout",
     "output_type": "stream",
     "text": [
      "0.7772274556460057\n"
     ]
    }
   ],
   "source": [
    "coeff,cophnet_dist= cophenet(link_mat,dist_array)\n",
    "print(coeff)"
   ]
  },
  {
   "cell_type": "markdown",
   "metadata": {},
   "source": [
    "silhoutte method"
   ]
  },
  {
   "cell_type": "code",
   "execution_count": 59,
   "metadata": {},
   "outputs": [],
   "source": [
    "k=[2,3,4,5,6]\n",
    "from sklearn.metrics import silhouette_score\n",
    "sil_scores=[]\n",
    "for i in k:\n",
    "    model=AgglomerativeClustering(n_clusters=i)\n",
    "    sil_scores.append(silhouette_score(features_scaled,model.fit_predict(features_scaled)))"
   ]
  },
  {
   "cell_type": "code",
   "execution_count": 60,
   "metadata": {},
   "outputs": [
    {
     "data": {
      "text/plain": [
       "<AxesSubplot:>"
      ]
     },
     "execution_count": 60,
     "metadata": {},
     "output_type": "execute_result"
    },
    {
     "data": {
      "image/png": "[encoded data removed]",
      "text/plain": [
       "<Figure size 432x288 with 1 Axes>"
      ]
     },
     "metadata": {
      "needs_background": "light"
     },
     "output_type": "display_data"
    }
   ],
   "source": [
    "import seaborn as sns\n",
    "sns.lineplot(x=k,y=sil_scores)"
   ]
  },
  {
   "cell_type": "markdown",
   "metadata": {},
   "source": [
    "Retrive the clusters"
   ]
  },
  {
   "cell_type": "code",
   "execution_count": 61,
   "metadata": {},
   "outputs": [
    {
     "data": {
      "text/plain": [
       "AgglomerativeClustering()"
      ]
     },
     "execution_count": 61,
     "metadata": {},
     "output_type": "execute_result"
    }
   ],
   "source": [
    "clusters=AgglomerativeClustering(n_clusters=2,linkage='ward')\n",
    "\n",
    "clusters.fit(features_scaled)"
   ]
  },
  {
   "cell_type": "code",
   "execution_count": 62,
   "metadata": {},
   "outputs": [],
   "source": [
    "df['Cluster num']=clusters.labels_"
   ]
  },
  {
   "cell_type": "code",
   "execution_count": 63,
   "metadata": {},
   "outputs": [
    {
     "data": {
      "text/html": [
       "<div>\n",
       "<style scoped>\n",
       "    .dataframe tbody tr th:only-of-type {\n",
       "        vertical-align: middle;\n",
       "    }\n",
       "\n",
       "    .dataframe tbody tr th {\n",
       "        vertical-align: top;\n",
       "    }\n",
       "\n",
       "    .dataframe thead th {\n",
       "        text-align: right;\n",
       "    }\n",
       "</style>\n",
       "<table border=\"1\" class=\"dataframe\">\n",
       "  <thead>\n",
       "    <tr style=\"text-align: right;\">\n",
       "      <th></th>\n",
       "      <th>Cust_id</th>\n",
       "      <th>Sales</th>\n",
       "      <th>Order_Quan</th>\n",
       "      <th>Profit</th>\n",
       "      <th>Shipping_Cost</th>\n",
       "      <th>Product_Base_Margin</th>\n",
       "      <th>Customer_Segment</th>\n",
       "      <th>Cluster num</th>\n",
       "    </tr>\n",
       "  </thead>\n",
       "  <tbody>\n",
       "    <tr>\n",
       "      <th>0</th>\n",
       "      <td>Cust_1088</td>\n",
       "      <td>10909.641</td>\n",
       "      <td>40</td>\n",
       "      <td>2616.46</td>\n",
       "      <td>22.00</td>\n",
       "      <td>0.57</td>\n",
       "      <td>HOME OFFICE</td>\n",
       "      <td>0</td>\n",
       "    </tr>\n",
       "    <tr>\n",
       "      <th>1</th>\n",
       "      <td>Cust_1820</td>\n",
       "      <td>10607.641</td>\n",
       "      <td>27</td>\n",
       "      <td>2977.36</td>\n",
       "      <td>23.69</td>\n",
       "      <td>0.56</td>\n",
       "      <td>CORPORATE</td>\n",
       "      <td>0</td>\n",
       "    </tr>\n",
       "    <tr>\n",
       "      <th>2</th>\n",
       "      <td>Cust_1659</td>\n",
       "      <td>754.641</td>\n",
       "      <td>13</td>\n",
       "      <td>29.80</td>\n",
       "      <td>8.90</td>\n",
       "      <td>0.37</td>\n",
       "      <td>SMALL BUSINESS</td>\n",
       "      <td>1</td>\n",
       "    </tr>\n",
       "    <tr>\n",
       "      <th>3</th>\n",
       "      <td>Cust_622</td>\n",
       "      <td>572.641</td>\n",
       "      <td>22</td>\n",
       "      <td>92.78</td>\n",
       "      <td>10.99</td>\n",
       "      <td>0.39</td>\n",
       "      <td>SMALL BUSINESS</td>\n",
       "      <td>1</td>\n",
       "    </tr>\n",
       "    <tr>\n",
       "      <th>4</th>\n",
       "      <td>Cust_564</td>\n",
       "      <td>10128.641</td>\n",
       "      <td>50</td>\n",
       "      <td>5133.68</td>\n",
       "      <td>20.50</td>\n",
       "      <td>0.36</td>\n",
       "      <td>SMALL BUSINESS</td>\n",
       "      <td>0</td>\n",
       "    </tr>\n",
       "  </tbody>\n",
       "</table>\n",
       "</div>"
      ],
      "text/plain": [
       "     Cust_id      Sales  Order_Quan   Profit  Shipping_Cost  \\\n",
       "0  Cust_1088  10909.641          40  2616.46          22.00   \n",
       "1  Cust_1820  10607.641          27  2977.36          23.69   \n",
       "2  Cust_1659    754.641          13    29.80           8.90   \n",
       "3   Cust_622    572.641          22    92.78          10.99   \n",
       "4   Cust_564  10128.641          50  5133.68          20.50   \n",
       "\n",
       "   Product_Base_Margin Customer_Segment  Cluster num  \n",
       "0                 0.57      HOME OFFICE            0  \n",
       "1                 0.56        CORPORATE            0  \n",
       "2                 0.37   SMALL BUSINESS            1  \n",
       "3                 0.39   SMALL BUSINESS            1  \n",
       "4                 0.36   SMALL BUSINESS            0  "
      ]
     },
     "execution_count": 63,
     "metadata": {},
     "output_type": "execute_result"
    }
   ],
   "source": [
    "df.head()"
   ]
  },
  {
   "cell_type": "code",
   "execution_count": 65,
   "metadata": {},
   "outputs": [
    {
     "data": {
      "text/plain": [
       "<AxesSubplot:xlabel='Sales', ylabel='Profit'>"
      ]
     },
     "execution_count": 65,
     "metadata": {},
     "output_type": "execute_result"
    },
    {
     "data": {
      "image/png": "[encoded data removed]",
      "text/plain": [
       "<Figure size 432x288 with 1 Axes>"
      ]
     },
     "metadata": {
      "needs_background": "light"
     },
     "output_type": "display_data"
    }
   ],
   "source": [
    "sns.scatterplot(x='Sales',y='Profit',data=df,hue='Cluster num')"
   ]
  },
  {
   "cell_type": "markdown",
   "metadata": {},
   "source": [
    "# DBScan"
   ]
  },
  {
   "cell_type": "code",
   "execution_count": 66,
   "metadata": {},
   "outputs": [],
   "source": [
    "from sklearn.cluster import DBSCAN"
   ]
  },
  {
   "cell_type": "code",
   "execution_count": 68,
   "metadata": {},
   "outputs": [],
   "source": [
    "model=DBSCAN(eps=0.8,min_samples=15)"
   ]
  },
  {
   "cell_type": "code",
   "execution_count": 69,
   "metadata": {},
   "outputs": [
    {
     "data": {
      "text/plain": [
       "DBSCAN(eps=0.8, min_samples=15)"
      ]
     },
     "execution_count": 69,
     "metadata": {},
     "output_type": "execute_result"
    }
   ],
   "source": [
    "model.fit(features_scaled)"
   ]
  },
  {
   "cell_type": "code",
   "execution_count": 70,
   "metadata": {},
   "outputs": [
    {
     "data": {
      "text/plain": [
       "{-1, 0, 1, 2}"
      ]
     },
     "execution_count": 70,
     "metadata": {},
     "output_type": "execute_result"
    }
   ],
   "source": [
    "set(model.labels_)"
   ]
  },
  {
   "cell_type": "code",
   "execution_count": 72,
   "metadata": {},
   "outputs": [],
   "source": [
    "df['Cluster num from DBScan']=model.labels_"
   ]
  },
  {
   "cell_type": "code",
   "execution_count": 77,
   "metadata": {},
   "outputs": [
    {
     "data": {
      "text/plain": [
       "<seaborn.axisgrid.FacetGrid at 0x14c0e729550>"
      ]
     },
     "execution_count": 77,
     "metadata": {},
     "output_type": "execute_result"
    },
    {
     "data": {
      "image/png": "[encoded data removed]",
      "text/plain": [
       "<Figure size 497.125x360 with 1 Axes>"
      ]
     },
     "metadata": {
      "needs_background": "light"
     },
     "output_type": "display_data"
    }
   ],
   "source": [
    "sns.lmplot(data=df,hue='Cluster num from DBScan',x='Sales',y='Profit',markers= ['o','+','^',','],fit_reg = False)"
   ]
  },
  {
   "cell_type": "code",
   "execution_count": null,
   "metadata": {},
   "outputs": [],
   "source": []
  }
 ],
 "metadata": {
  "kernelspec": {
   "display_name": "Python 3",
   "language": "python",
   "name": "python3"
  },
  "language_info": {
   "codemirror_mode": {
    "name": "ipython",
    "version": 3
   },
   "file_extension": ".py",
   "mimetype": "text/x-python",
   "name": "python",
   "nbconvert_exporter": "python",
   "pygments_lexer": "ipython3",
   "version": "3.8.5"
  }
 },
 "nbformat": 4,
 "nbformat_minor": 4
}
